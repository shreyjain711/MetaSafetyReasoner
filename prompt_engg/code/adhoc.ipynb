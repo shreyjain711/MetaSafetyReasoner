{
 "cells": [
  {
   "cell_type": "code",
   "execution_count": 1,
   "id": "d65d7b97",
   "metadata": {},
   "outputs": [
    {
     "name": "stdout",
     "output_type": "stream",
     "text": [
      "Collecting litellm\n",
      "  Downloading litellm-1.77.2.post1.tar.gz (10.2 MB)\n",
      "\u001b[2K     \u001b[90m━━━━━━━━━━━━━━━━━━━━━━━━━━━━━━━━━━━━━━━━\u001b[0m \u001b[32m10.2/10.2 MB\u001b[0m \u001b[31m33.3 MB/s\u001b[0m eta \u001b[36m0:00:00\u001b[0m \u001b[36m0:00:01\u001b[0m\n",
      "\u001b[?25h  Installing build dependencies ... \u001b[?25ldone\n",
      "\u001b[?25h  Getting requirements to build wheel ... \u001b[?25ldone\n",
      "\u001b[?25h  Preparing metadata (pyproject.toml) ... \u001b[?25ldone\n",
      "\u001b[?25hRequirement already satisfied: aiohttp>=3.10 in /opt/anaconda3/envs/iml_env/lib/python3.9/site-packages (from litellm) (3.12.14)\n",
      "Requirement already satisfied: click in /opt/anaconda3/envs/iml_env/lib/python3.9/site-packages (from litellm) (8.1.8)\n",
      "Collecting fastuuid>=0.12.0 (from litellm)\n",
      "  Downloading fastuuid-0.12.0-cp39-cp39-macosx_11_0_arm64.whl.metadata (7.8 kB)\n",
      "Collecting httpx>=0.23.0 (from litellm)\n",
      "  Using cached httpx-0.28.1-py3-none-any.whl.metadata (7.1 kB)\n",
      "Requirement already satisfied: importlib-metadata>=6.8.0 in /opt/anaconda3/envs/iml_env/lib/python3.9/site-packages (from litellm) (8.7.0)\n",
      "Requirement already satisfied: jinja2<4.0.0,>=3.1.2 in /opt/anaconda3/envs/iml_env/lib/python3.9/site-packages (from litellm) (3.1.4)\n",
      "Requirement already satisfied: jsonschema<5.0.0,>=4.22.0 in /opt/anaconda3/envs/iml_env/lib/python3.9/site-packages (from litellm) (4.24.0)\n",
      "Collecting openai>=1.99.5 (from litellm)\n",
      "  Downloading openai-1.108.1-py3-none-any.whl.metadata (29 kB)\n",
      "Requirement already satisfied: pydantic<3.0.0,>=2.5.0 in /opt/anaconda3/envs/iml_env/lib/python3.9/site-packages (from litellm) (2.11.7)\n",
      "Collecting python-dotenv>=0.2.0 (from litellm)\n",
      "  Downloading python_dotenv-1.1.1-py3-none-any.whl.metadata (24 kB)\n",
      "Collecting tiktoken>=0.7.0 (from litellm)\n",
      "  Downloading tiktoken-0.11.0-cp39-cp39-macosx_11_0_arm64.whl.metadata (6.7 kB)\n",
      "Requirement already satisfied: tokenizers in /opt/anaconda3/envs/iml_env/lib/python3.9/site-packages (from litellm) (0.15.2)\n",
      "Requirement already satisfied: aiohappyeyeballs>=2.5.0 in /opt/anaconda3/envs/iml_env/lib/python3.9/site-packages (from aiohttp>=3.10->litellm) (2.6.1)\n",
      "Requirement already satisfied: aiosignal>=1.4.0 in /opt/anaconda3/envs/iml_env/lib/python3.9/site-packages (from aiohttp>=3.10->litellm) (1.4.0)\n",
      "Requirement already satisfied: async-timeout<6.0,>=4.0 in /opt/anaconda3/envs/iml_env/lib/python3.9/site-packages (from aiohttp>=3.10->litellm) (5.0.1)\n",
      "Requirement already satisfied: attrs>=17.3.0 in /opt/anaconda3/envs/iml_env/lib/python3.9/site-packages (from aiohttp>=3.10->litellm) (25.3.0)\n",
      "Requirement already satisfied: frozenlist>=1.1.1 in /opt/anaconda3/envs/iml_env/lib/python3.9/site-packages (from aiohttp>=3.10->litellm) (1.7.0)\n",
      "Requirement already satisfied: multidict<7.0,>=4.5 in /opt/anaconda3/envs/iml_env/lib/python3.9/site-packages (from aiohttp>=3.10->litellm) (6.6.3)\n",
      "Requirement already satisfied: propcache>=0.2.0 in /opt/anaconda3/envs/iml_env/lib/python3.9/site-packages (from aiohttp>=3.10->litellm) (0.3.2)\n",
      "Requirement already satisfied: yarl<2.0,>=1.17.0 in /opt/anaconda3/envs/iml_env/lib/python3.9/site-packages (from aiohttp>=3.10->litellm) (1.20.1)\n",
      "Requirement already satisfied: anyio in /opt/anaconda3/envs/iml_env/lib/python3.9/site-packages (from httpx>=0.23.0->litellm) (4.9.0)\n",
      "Requirement already satisfied: certifi in /opt/anaconda3/envs/iml_env/lib/python3.9/site-packages (from httpx>=0.23.0->litellm) (2024.8.30)\n",
      "Collecting httpcore==1.* (from httpx>=0.23.0->litellm)\n",
      "  Using cached httpcore-1.0.9-py3-none-any.whl.metadata (21 kB)\n",
      "Requirement already satisfied: idna in /opt/anaconda3/envs/iml_env/lib/python3.9/site-packages (from httpx>=0.23.0->litellm) (3.10)\n",
      "Collecting h11>=0.16 (from httpcore==1.*->httpx>=0.23.0->litellm)\n",
      "  Using cached h11-0.16.0-py3-none-any.whl.metadata (8.3 kB)\n",
      "Requirement already satisfied: zipp>=3.20 in /opt/anaconda3/envs/iml_env/lib/python3.9/site-packages (from importlib-metadata>=6.8.0->litellm) (3.20.2)\n",
      "Requirement already satisfied: MarkupSafe>=2.0 in /opt/anaconda3/envs/iml_env/lib/python3.9/site-packages (from jinja2<4.0.0,>=3.1.2->litellm) (3.0.2)\n",
      "Requirement already satisfied: jsonschema-specifications>=2023.03.6 in /opt/anaconda3/envs/iml_env/lib/python3.9/site-packages (from jsonschema<5.0.0,>=4.22.0->litellm) (2025.4.1)\n",
      "Requirement already satisfied: referencing>=0.28.4 in /opt/anaconda3/envs/iml_env/lib/python3.9/site-packages (from jsonschema<5.0.0,>=4.22.0->litellm) (0.36.2)\n",
      "Requirement already satisfied: rpds-py>=0.7.1 in /opt/anaconda3/envs/iml_env/lib/python3.9/site-packages (from jsonschema<5.0.0,>=4.22.0->litellm) (0.25.1)\n",
      "Collecting distro<2,>=1.7.0 (from openai>=1.99.5->litellm)\n",
      "  Downloading distro-1.9.0-py3-none-any.whl.metadata (6.8 kB)\n",
      "Collecting jiter<1,>=0.4.0 (from openai>=1.99.5->litellm)\n",
      "  Downloading jiter-0.11.0-cp39-cp39-macosx_11_0_arm64.whl.metadata (5.2 kB)\n",
      "Requirement already satisfied: sniffio in /opt/anaconda3/envs/iml_env/lib/python3.9/site-packages (from openai>=1.99.5->litellm) (1.3.1)\n",
      "Requirement already satisfied: tqdm>4 in /opt/anaconda3/envs/iml_env/lib/python3.9/site-packages (from openai>=1.99.5->litellm) (4.67.0)\n",
      "Requirement already satisfied: typing-extensions<5,>=4.11 in /opt/anaconda3/envs/iml_env/lib/python3.9/site-packages (from openai>=1.99.5->litellm) (4.12.2)\n",
      "Requirement already satisfied: annotated-types>=0.6.0 in /opt/anaconda3/envs/iml_env/lib/python3.9/site-packages (from pydantic<3.0.0,>=2.5.0->litellm) (0.7.0)\n",
      "Requirement already satisfied: pydantic-core==2.33.2 in /opt/anaconda3/envs/iml_env/lib/python3.9/site-packages (from pydantic<3.0.0,>=2.5.0->litellm) (2.33.2)\n",
      "Requirement already satisfied: typing-inspection>=0.4.0 in /opt/anaconda3/envs/iml_env/lib/python3.9/site-packages (from pydantic<3.0.0,>=2.5.0->litellm) (0.4.1)\n",
      "Requirement already satisfied: regex>=2022.1.18 in /opt/anaconda3/envs/iml_env/lib/python3.9/site-packages (from tiktoken>=0.7.0->litellm) (2024.11.6)\n",
      "Requirement already satisfied: requests>=2.26.0 in /opt/anaconda3/envs/iml_env/lib/python3.9/site-packages (from tiktoken>=0.7.0->litellm) (2.27.1)\n",
      "Requirement already satisfied: huggingface_hub<1.0,>=0.16.4 in /opt/anaconda3/envs/iml_env/lib/python3.9/site-packages (from tokenizers->litellm) (0.32.0)\n",
      "Requirement already satisfied: exceptiongroup>=1.0.2 in /opt/anaconda3/envs/iml_env/lib/python3.9/site-packages (from anyio->httpx>=0.23.0->litellm) (1.3.0)\n",
      "Requirement already satisfied: filelock in /opt/anaconda3/envs/iml_env/lib/python3.9/site-packages (from huggingface_hub<1.0,>=0.16.4->tokenizers->litellm) (3.16.1)\n",
      "Requirement already satisfied: fsspec>=2023.5.0 in /opt/anaconda3/envs/iml_env/lib/python3.9/site-packages (from huggingface_hub<1.0,>=0.16.4->tokenizers->litellm) (2023.10.0)\n",
      "Requirement already satisfied: packaging>=20.9 in /opt/anaconda3/envs/iml_env/lib/python3.9/site-packages (from huggingface_hub<1.0,>=0.16.4->tokenizers->litellm) (24.1)\n",
      "Requirement already satisfied: pyyaml>=5.1 in /opt/anaconda3/envs/iml_env/lib/python3.9/site-packages (from huggingface_hub<1.0,>=0.16.4->tokenizers->litellm) (6.0.2)\n",
      "Requirement already satisfied: hf-xet<2.0.0,>=1.1.2 in /opt/anaconda3/envs/iml_env/lib/python3.9/site-packages (from huggingface_hub<1.0,>=0.16.4->tokenizers->litellm) (1.1.2)\n",
      "Requirement already satisfied: urllib3<1.27,>=1.21.1 in /opt/anaconda3/envs/iml_env/lib/python3.9/site-packages (from requests>=2.26.0->tiktoken>=0.7.0->litellm) (1.26.20)\n",
      "Requirement already satisfied: charset-normalizer~=2.0.0 in /opt/anaconda3/envs/iml_env/lib/python3.9/site-packages (from requests>=2.26.0->tiktoken>=0.7.0->litellm) (2.0.12)\n",
      "Downloading fastuuid-0.12.0-cp39-cp39-macosx_11_0_arm64.whl (247 kB)\n",
      "Downloading httpx-0.28.1-py3-none-any.whl (73 kB)\n",
      "Downloading httpcore-1.0.9-py3-none-any.whl (78 kB)\n",
      "Downloading openai-1.108.1-py3-none-any.whl (948 kB)\n",
      "\u001b[2K   \u001b[90m━━━━━━━━━━━━━━━━━━━━━━━━━━━━━━━━━━━━━━━━\u001b[0m \u001b[32m948.4/948.4 kB\u001b[0m \u001b[31m34.6 MB/s\u001b[0m eta \u001b[36m0:00:00\u001b[0m\n",
      "\u001b[?25hDownloading python_dotenv-1.1.1-py3-none-any.whl (20 kB)\n",
      "Downloading tiktoken-0.11.0-cp39-cp39-macosx_11_0_arm64.whl (1.0 MB)\n",
      "\u001b[2K   \u001b[90m━━━━━━━━━━━━━━━━━━━━━━━━━━━━━━━━━━━━━━━━\u001b[0m \u001b[32m1.0/1.0 MB\u001b[0m \u001b[31m31.8 MB/s\u001b[0m eta \u001b[36m0:00:00\u001b[0m\n",
      "\u001b[?25hDownloading distro-1.9.0-py3-none-any.whl (20 kB)\n",
      "Downloading jiter-0.11.0-cp39-cp39-macosx_11_0_arm64.whl (305 kB)\n",
      "Downloading h11-0.16.0-py3-none-any.whl (37 kB)\n",
      "Building wheels for collected packages: litellm\n",
      "  Building wheel for litellm (pyproject.toml) ... \u001b[?25ldone\n",
      "\u001b[?25h  Created wheel for litellm: filename=litellm-1.77.2.post1-py3-none-any.whl size=9068374 sha256=df1343996d768be2598973c7edc8572b3b3a4108e651a2e744678347984ef253\n",
      "  Stored in directory: /Users/shreyj/Library/Caches/pip/wheels/fe/e7/58/3c38e759d891d562347e90ea0325fb5d45edd83a583bf14edb\n",
      "Successfully built litellm\n",
      "Installing collected packages: python-dotenv, jiter, h11, fastuuid, distro, tiktoken, httpcore, httpx, openai, litellm\n",
      "Successfully installed distro-1.9.0 fastuuid-0.12.0 h11-0.16.0 httpcore-1.0.9 httpx-0.28.1 jiter-0.11.0 litellm-1.77.2.post1 openai-1.108.1 python-dotenv-1.1.1 tiktoken-0.11.0\n",
      "Note: you may need to restart the kernel to use updated packages.\n"
     ]
    }
   ],
   "source": [
    "pip install litellm"
   ]
  },
  {
   "cell_type": "code",
   "execution_count": 2,
   "id": "6473c2b6",
   "metadata": {},
   "outputs": [],
   "source": [
    "import litellm\n",
    "\n",
    "def call_litellm(messages, model):\n",
    "    try:\n",
    "        API_KEY = \"sk-_-wtZCh5j6xgoasL7dA0cA\"\n",
    "        response = litellm.completion(\n",
    "            model=model,\n",
    "            messages=messages,\n",
    "            api_key=API_KEY,\n",
    "            base_url=\"https://cmu.litellm.ai\"\n",
    "        )\n",
    "        print(\"DBG\", response)\n",
    "        return response['choices'][0]['message']['content']\n",
    "    except Exception as e:\n",
    "        return f\"Error: {e}\""
   ]
  },
  {
   "cell_type": "code",
   "execution_count": 3,
   "id": "960f1b53",
   "metadata": {},
   "outputs": [
    {
     "name": "stdout",
     "output_type": "stream",
     "text": [
      "DBG ModelResponse(id='chatcmpl-CHxzM0CaFyYItdWAfL1P6KmXy88mA', created=1758398208, model='gpt-4o-2024-08-06', object='chat.completion', system_fingerprint='fp_f33640a400', choices=[Choices(finish_reason='stop', index=0, message=Message(content='Hello! How can I assist you today?', role='assistant', tool_calls=None, function_call=None, provider_specific_fields={'refusal': None}, annotations=[]), provider_specific_fields={})], usage=Usage(completion_tokens=9, prompt_tokens=9, total_tokens=18, completion_tokens_details=CompletionTokensDetailsWrapper(accepted_prediction_tokens=0, audio_tokens=0, reasoning_tokens=0, rejected_prediction_tokens=0, text_tokens=None), prompt_tokens_details=PromptTokensDetailsWrapper(audio_tokens=0, cached_tokens=0, text_tokens=None, image_tokens=None)), service_tier='default')\n"
     ]
    },
    {
     "data": {
      "text/plain": [
       "'Hello! How can I assist you today?'"
      ]
     },
     "execution_count": 3,
     "metadata": {},
     "output_type": "execute_result"
    }
   ],
   "source": [
    "call_litellm([{\"role\": \"user\", \"content\": \"Hello!\"}], \"openai/gpt-4o\")"
   ]
  },
  {
   "cell_type": "code",
   "execution_count": null,
   "id": "22640d29",
   "metadata": {},
   "outputs": [],
   "source": []
  }
 ],
 "metadata": {
  "kernelspec": {
   "display_name": "iml_env",
   "language": "python",
   "name": "python3"
  },
  "language_info": {
   "codemirror_mode": {
    "name": "ipython",
    "version": 3
   },
   "file_extension": ".py",
   "mimetype": "text/x-python",
   "name": "python",
   "nbconvert_exporter": "python",
   "pygments_lexer": "ipython3",
   "version": "3.9.18"
  }
 },
 "nbformat": 4,
 "nbformat_minor": 5
}
